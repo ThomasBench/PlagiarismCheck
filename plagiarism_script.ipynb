{
 "cells": [
  {
   "cell_type": "code",
   "execution_count": 1,
   "metadata": {},
   "outputs": [],
   "source": [
    "import pickle\n",
    "from helpers import treat_article, compute_plagiarism_from_articles, compute_many_to_many_sim\n",
    "from glob import glob\n",
    "from nltk.corpus import stopwords"
   ]
  },
  {
   "cell_type": "code",
   "execution_count": null,
   "metadata": {},
   "outputs": [],
   "source": [
    "### Parameters\n",
    "\n",
    "ENG_STOPWORDS = set(stopwords.words(\"english\"))\n",
    "N_GRAM = 3\n",
    "GAP_TOLERANCE = 5 \n",
    "PADDING = 20"
   ]
  },
  {
   "cell_type": "code",
   "execution_count": 2,
   "metadata": {},
   "outputs": [
    {
     "name": "stderr",
     "output_type": "stream",
     "text": [
      "100%|██████████| 3202/3202 [00:22<00:00, 143.98it/s]\n",
      "100%|██████████| 35495/35495 [10:04<00:00, 58.76it/s] \n",
      "100%|██████████| 3700/3700 [00:31<00:00, 117.71it/s]\n",
      "100%|██████████| 3040/3040 [00:19<00:00, 159.24it/s]\n",
      "100%|██████████| 324/324 [00:03<00:00, 81.20it/s] \n"
     ]
    }
   ],
   "source": [
    "### File paths \n",
    "fr_path = \"./txt files/french.txt\"\n",
    "en_path = \"./txt files/english.txt\"\n",
    "it_path = \"./txt files/italian.txt\"\n",
    "es_path = \"./txt files/spanish.txt\"\n",
    "de_path = \"./txt files/deutch.txt\"\n",
    "\n",
    "fr_article = treat_article(fr_path,ENG_STOPWORDS,N_GRAM)\n",
    "en_article = treat_article(en_path,ENG_STOPWORDS,N_GRAM)\n",
    "it_article = treat_article(it_path,ENG_STOPWORDS,N_GRAM)\n",
    "es_article = treat_article(es_path,ENG_STOPWORDS,N_GRAM)\n",
    "de_article = treat_article(de_path,ENG_STOPWORDS,N_GRAM)\n",
    "\n",
    "france_lat_lon = (46.00,2.00)\n",
    "spain_lat_lon = (40.46,-3.75)\n",
    "italy_lat_lon = (42.23,13.57)\n",
    "england_lat_lon = (52.35,-1.17)\n",
    "de_lat_lon = (52.22, 4.53)\n",
    "\n",
    "languages = [\"french\",\"english\",\"italian\",\"spanish\", \"deutch\"]\n",
    "articles = [fr_article,en_article,it_article,es_article, de_article]\n",
    "lat_lon_values = [france_lat_lon,england_lat_lon,italy_lat_lon,spain_lat_lon, de_lat_lon]"
   ]
  },
  {
   "cell_type": "code",
   "execution_count": 5,
   "metadata": {},
   "outputs": [],
   "source": [
    "# Save the processed files \n",
    "for i,article in enumerate(articles):\n",
    "    with open(f\"./processed/{languages[i]}.pkl\", mode = \"wb\") as f:\n",
    "        pickle.dump((languages[i], article, lat_lon_values[i]),f)\n"
   ]
  },
  {
   "cell_type": "code",
   "execution_count": 2,
   "metadata": {},
   "outputs": [],
   "source": [
    "# Load the processed files\n",
    "languages = []\n",
    "articles = []\n",
    "lat_lon_values = []\n",
    "for file in glob(\"./processed/*.pkl\"):\n",
    "    with open(file, mode = \"rb\") as f:\n",
    "        lang, art, lat_lon = pickle.load(f)\n",
    "    languages.append(lang)\n",
    "    articles.append(art)\n",
    "    lat_lon_values.append(lat_lon)"
   ]
  },
  {
   "cell_type": "code",
   "execution_count": 3,
   "metadata": {},
   "outputs": [
    {
     "name": "stdout",
     "output_type": "stream",
     "text": [
      "The two articles have a similarity score of 2.36, with 60 matching sequences. You can use the viewer to visualize the matching sequences\n",
      "\n",
      "--- --- ---\n",
      "\n",
      "The first article share 2.5336252736940885% of its content with the second\n",
      "The second article share 2.1915584415584415% of its content with the first\n",
      "\n",
      "--- --- ---\n",
      "\n",
      "\n",
      "\n",
      "--- Printing matching n°15 ---\n",
      "hereditary the fires children male legitimate of his subjects was afflicted to environment of them when they do able to succeed \u001b[31msucceed to throne\u001b[0m throne according to usage he was going to do their happiness Cardinal de Richeausii older than the monarchy The King of\n",
      "ones sons male and legitimate they are crown like fiefdoms it was given with the obligation of the qualified to succeed \u001b[31msucceed the throne\u001b[0m throne according to a custom military service Geogr mod Tom IIyesCharlemagne i whichThe best cards that are been published The order\n",
      "\n",
      "\n",
      "--- Printing matching n°16 ---\n",
      "environment of them when they do able to succeed to throne according to usage he was going to do their happiness \u001b[31mhappiness Cardinal de Richeausii\u001b[0m Richeausii older than the monarchy The King of France place took care of the care to lower the house dAu bears\n",
      "promote circulation stoned in the midst of them when he was for internal help also from divessi sea channels their happiness \u001b[31mhappiness Cardinal de Richelieus\u001b[0m Richelieus communication Nature presents here one occupied with commitment to lower the house of singular ease in communicating the opposing Austria\n",
      "\n",
      "\n",
      "--- Printing matching n°17 ---\n",
      "to succeed to throne according to usage he was going to do their happiness Cardinal de Richeausii older than the monarchy \u001b[31mmonarchy The King of\u001b[0m of France place took care of the care to lower the house dAu bears the titles Kings very Christian of eldest\n",
      "Loei while the Portuguese and the Spaniards dis they deprive and conquer new worlds allorien ancient as much as the monarchy \u001b[31mmonarchy The king of\u001b[0m of France you and the west of the known world He bears the titles of most Christian king and of son\n"
     ]
    }
   ],
   "source": [
    "import helpers\n",
    "viewer , score  = compute_plagiarism_from_articles(articles[2], articles[3], gap_tolerance=GAP_TOLERANCE, padding=PADDING)\n",
    "viewer[15:18]"
   ]
  },
  {
   "cell_type": "code",
   "execution_count": 3,
   "metadata": {},
   "outputs": [
    {
     "name": "stdout",
     "output_type": "stream",
     "text": [
      "        deutch   english    french   italian spanish\n",
      "deutch     NaN       NaN       NaN       NaN     NaN\n",
      "english    0.0       NaN       NaN       NaN     NaN\n",
      "french     0.0  0.051176       NaN       NaN     NaN\n",
      "italian    0.0  0.029895  2.362592       NaN     NaN\n",
      "spanish    0.0  0.053762  3.985523  3.002979     NaN\n"
     ]
    },
    {
     "data": {
      "application/vnd.plotly.v1+json": {
       "config": {
        "plotlyServerURL": "https://plot.ly"
       },
       "data": [
        {
         "lat": [
          52.22,
          52.35
         ],
         "line": {
          "color": "rgb(0.0, 0.0, 0.0)"
         },
         "lon": [
          4.53,
          -1.17
         ],
         "mode": "markers+lines",
         "name": "deutch - english sim : 0.00",
         "type": "scattergeo"
        },
        {
         "lat": [
          52.22,
          46
         ],
         "line": {
          "color": "rgb(0.0, 0.0, 0.0)"
         },
         "lon": [
          4.53,
          2
         ],
         "mode": "markers+lines",
         "name": "deutch - french sim : 0.00",
         "type": "scattergeo"
        },
        {
         "lat": [
          52.22,
          42.23
         ],
         "line": {
          "color": "rgb(0.0, 0.0, 0.0)"
         },
         "lon": [
          4.53,
          13.57
         ],
         "mode": "markers+lines",
         "name": "deutch - italian sim : 0.00",
         "type": "scattergeo"
        },
        {
         "lat": [
          52.22,
          40.46
         ],
         "line": {
          "color": "rgb(0.0, 0.0, 0.0)"
         },
         "lon": [
          4.53,
          -3.75
         ],
         "mode": "markers+lines",
         "name": "deutch - spanish sim : 0.00",
         "type": "scattergeo"
        },
        {
         "lat": [
          52.35,
          46
         ],
         "line": {
          "color": "rgb(3.274343768582188, 3.274343768582188, 3.274343768582188)"
         },
         "lon": [
          -1.17,
          2
         ],
         "mode": "markers+lines",
         "name": "english - french sim : 0.05",
         "type": "scattergeo"
        },
        {
         "lat": [
          52.35,
          42.23
         ],
         "line": {
          "color": "rgb(1.9126986503314896, 1.9126986503314896, 1.9126986503314896)"
         },
         "lon": [
          -1.17,
          13.57
         ],
         "mode": "markers+lines",
         "name": "english - italian sim : 0.03",
         "type": "scattergeo"
        },
        {
         "lat": [
          52.35,
          40.46
         ],
         "line": {
          "color": "rgb(3.4397978007107444, 3.4397978007107444, 3.4397978007107444)"
         },
         "lon": [
          -1.17,
          -3.75
         ],
         "mode": "markers+lines",
         "name": "english - spanish sim : 0.05",
         "type": "scattergeo"
        },
        {
         "lat": [
          46,
          42.23
         ],
         "line": {
          "color": "rgb(151.1623353643965, 151.1623353643965, 151.1623353643965)"
         },
         "lon": [
          2,
          13.57
         ],
         "mode": "markers+lines",
         "name": "french - italian sim : 2.36",
         "type": "scattergeo"
        },
        {
         "lat": [
          46,
          40.46
         ],
         "line": {
          "color": "rgb(255.0, 255.0, 255.0)"
         },
         "lon": [
          2,
          -3.75
         ],
         "mode": "markers+lines",
         "name": "french - spanish sim : 3.99",
         "type": "scattergeo"
        },
        {
         "lat": [
          42.23,
          40.46
         ],
         "line": {
          "color": "rgb(192.13530152082407, 192.13530152082407, 192.13530152082407)"
         },
         "lon": [
          13.57,
          -3.75
         ],
         "mode": "markers+lines",
         "name": "italian - spanish sim : 3.00",
         "type": "scattergeo"
        }
       ],
       "layout": {
        "geo": {
         "landcolor": "rgb(204, 204, 204)",
         "lataxis": {
          "dtick": 10,
          "range": [
           35,
           58
          ]
         },
         "lonaxis": {
          "dtick": 20,
          "range": [
           -15,
           20
          ]
         },
         "projection": {
          "type": "equirectangular"
         },
         "resolution": 50,
         "showland": true
        },
        "height": 600,
        "legend": {
         "orientation": "h"
        },
        "showlegend": true,
        "template": {
         "data": {
          "scatter": [
           {
            "type": "scatter"
           }
          ]
         }
        },
        "title": {
         "text": "Similarity map between articles of encyclopedias"
        },
        "width": 800
       }
      }
     },
     "metadata": {},
     "output_type": "display_data"
    }
   ],
   "source": [
    "compute_many_to_many_sim(articles, languages, True, lat_lon_values)"
   ]
  },
  {
   "cell_type": "code",
   "execution_count": null,
   "metadata": {},
   "outputs": [],
   "source": []
  }
 ],
 "metadata": {
  "kernelspec": {
   "display_name": "Python 3.10.4 ('elena')",
   "language": "python",
   "name": "python3"
  },
  "language_info": {
   "codemirror_mode": {
    "name": "ipython",
    "version": 3
   },
   "file_extension": ".py",
   "mimetype": "text/x-python",
   "name": "python",
   "nbconvert_exporter": "python",
   "pygments_lexer": "ipython3",
   "version": "3.10.4"
  },
  "orig_nbformat": 4,
  "vscode": {
   "interpreter": {
    "hash": "8a6dfac6a863ce74490bf67068b844c1f481ab82347803ea647cf3fdeb1d638d"
   }
  }
 },
 "nbformat": 4,
 "nbformat_minor": 2
}
