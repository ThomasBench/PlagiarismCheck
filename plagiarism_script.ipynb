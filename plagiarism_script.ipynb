{
 "cells": [
  {
   "cell_type": "code",
   "execution_count": 3,
   "metadata": {},
   "outputs": [],
   "source": [
    "from parameters import ENG_STOPWORDS, N_GRAM\n",
    "from helpers import treat_article, compute_plagiarism_from_articles, compute_many_to_many_sim\n",
    "import pyspark\n",
    "SC = pyspark.SparkContext()"
   ]
  },
  {
   "cell_type": "code",
   "execution_count": 4,
   "metadata": {},
   "outputs": [],
   "source": [
    "### File paths \n",
    "fr_path = \"./txt files/french.txt\"\n",
    "en_path = \"./txt files/english.txt\"\n",
    "it_path = \"./txt files/italian.txt\"\n",
    "es_path = \"./txt files/spanish.txt\"\n",
    "\n",
    "fr_article = treat_article(fr_path,SC,ENG_STOPWORDS,N_GRAM)\n",
    "en_article = treat_article(en_path,SC,ENG_STOPWORDS,N_GRAM)\n",
    "it_article = treat_article(it_path,SC,ENG_STOPWORDS,N_GRAM)\n",
    "es_article = treat_article(es_path,SC,ENG_STOPWORDS,N_GRAM)\n",
    "\n",
    "\n",
    "france_lat_lon = (46.00,2.00)\n",
    "spain_lat_lon = (40.46,-3.75)\n",
    "italy_lat_lon = (42.23,13.57)\n",
    "england_lat_lon = (52.35,-1.17)\n",
    "\n",
    "languages = [\"french\",\"english\",\"italian\",\"spanish\"]\n",
    "articles = [fr_article,en_article,it_article,es_article]\n",
    "lat_lon_values = [france_lat_lon,england_lat_lon,italy_lat_lon,spain_lat_lon]"
   ]
  },
  {
   "cell_type": "code",
   "execution_count": 5,
   "metadata": {},
   "outputs": [
    {
     "name": "stdout",
     "output_type": "stream",
     "text": [
      "The two articles have a similarity score of 3.98, with 124 matching n-gram. You can use the viewer to visualize the matching sequences\n",
      "was augmented by his successors and these companions of his soil and of the genius of his inhabitants geniuses had also \u001b[31malso the name\u001b[0m name of parliament They are The population totality of the kingdom which remains today thirteen in number Paris Toulouse feels always\n",
      "or other superior Courts similar to that of Paris The number was increased by his successors and these Courts covered also \u001b[31malso the name\u001b[0m name of Parliament There are currently thirteen Paris Toulouse Grenoble Bordeaux Dijon Rouen Aix Rennes Pau Metz Douai Besanzon and Nanci\n"
     ]
    }
   ],
   "source": [
    "viewer , score  = compute_plagiarism_from_articles(fr_article, es_article)\n",
    "viewer(60)"
   ]
  },
  {
   "cell_type": "code",
   "execution_count": 7,
   "metadata": {},
   "outputs": [
    {
     "name": "stdout",
     "output_type": "stream",
     "text": [
      "           french   english   italian spanish\n",
      "french        NaN       NaN       NaN     NaN\n",
      "english  0.015613       NaN       NaN     NaN\n",
      "italian   2.35021  0.010275       NaN     NaN\n",
      "spanish  3.982656  0.015681  2.973536     NaN\n"
     ]
    },
    {
     "data": {
      "application/vnd.plotly.v1+json": {
       "config": {
        "plotlyServerURL": "https://plot.ly"
       },
       "data": [
        {
         "lat": [
          46,
          52.35
         ],
         "line": {
          "color": "rgb(0.3426433608617162, 0.3426433608617162, 0.3426433608617162)"
         },
         "lon": [
          2,
          -1.17
         ],
         "mode": "markers+lines",
         "name": "french - english sim : 0.02",
         "type": "scattergeo"
        },
        {
         "lat": [
          46,
          42.23
         ],
         "line": {
          "color": "rgb(150.20801830181537, 150.20801830181537, 150.20801830181537)"
         },
         "lon": [
          2,
          13.57
         ],
         "mode": "markers+lines",
         "name": "french - italian sim : 2.35",
         "type": "scattergeo"
        },
        {
         "lat": [
          46,
          40.46
         ],
         "line": {
          "color": "rgb(255.0, 255.0, 255.0)"
         },
         "lon": [
          2,
          -3.75
         ],
         "mode": "markers+lines",
         "name": "french - spanish sim : 3.98",
         "type": "scattergeo"
        },
        {
         "lat": [
          52.35,
          42.23
         ],
         "line": {
          "color": "rgb(0.0, 0.0, 0.0)"
         },
         "lon": [
          -1.17,
          13.57
         ],
         "mode": "markers+lines",
         "name": "english - italian sim : 0.01",
         "type": "scattergeo"
        },
        {
         "lat": [
          52.35,
          40.46
         ],
         "line": {
          "color": "rgb(0.3470176511186612, 0.3470176511186612, 0.3470176511186612)"
         },
         "lon": [
          -1.17,
          -3.75
         ],
         "mode": "markers+lines",
         "name": "english - spanish sim : 0.02",
         "type": "scattergeo"
        },
        {
         "lat": [
          42.23,
          40.46
         ],
         "line": {
          "color": "rgb(190.22127921275072, 190.22127921275072, 190.22127921275072)"
         },
         "lon": [
          13.57,
          -3.75
         ],
         "mode": "markers+lines",
         "name": "italian - spanish sim : 2.97",
         "type": "scattergeo"
        }
       ],
       "layout": {
        "geo": {
         "landcolor": "rgb(204, 204, 204)",
         "lataxis": {
          "dtick": 10,
          "range": [
           35,
           58
          ]
         },
         "lonaxis": {
          "dtick": 20,
          "range": [
           -15,
           20
          ]
         },
         "projection": {
          "type": "equirectangular"
         },
         "resolution": 50,
         "showland": true
        },
        "height": 600,
        "legend": {
         "orientation": "h"
        },
        "showlegend": true,
        "template": {
         "data": {
          "scatter": [
           {
            "type": "scatter"
           }
          ]
         }
        },
        "title": {
         "text": "Similarity map between articles of encyclopedias"
        },
        "width": 800
       }
      }
     },
     "metadata": {},
     "output_type": "display_data"
    }
   ],
   "source": [
    "compute_many_to_many_sim(articles, languages, True, lat_lon_values)"
   ]
  }
 ],
 "metadata": {
  "kernelspec": {
   "display_name": "Python 3.10.4 ('elena')",
   "language": "python",
   "name": "python3"
  },
  "language_info": {
   "codemirror_mode": {
    "name": "ipython",
    "version": 3
   },
   "file_extension": ".py",
   "mimetype": "text/x-python",
   "name": "python",
   "nbconvert_exporter": "python",
   "pygments_lexer": "ipython3",
   "version": "3.10.4"
  },
  "orig_nbformat": 4,
  "vscode": {
   "interpreter": {
    "hash": "8a6dfac6a863ce74490bf67068b844c1f481ab82347803ea647cf3fdeb1d638d"
   }
  }
 },
 "nbformat": 4,
 "nbformat_minor": 2
}
