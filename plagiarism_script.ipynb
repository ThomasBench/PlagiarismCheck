{
 "cells": [
  {
   "cell_type": "code",
   "execution_count": 5,
   "metadata": {},
   "outputs": [],
   "source": [
    "from parameters import ENG_STOPWORDS, N_GRAM\n",
    "from helpers import treat_article, compute_plagiarism_from_articles, compute_many_to_many_sim\n"
   ]
  },
  {
   "cell_type": "code",
   "execution_count": 6,
   "metadata": {},
   "outputs": [
    {
     "name": "stderr",
     "output_type": "stream",
     "text": [
      "100%|██████████| 3202/3202 [00:25<00:00, 125.67it/s]\n",
      "100%|██████████| 35495/35495 [10:08<00:00, 58.36it/s] \n",
      "100%|██████████| 3700/3700 [00:32<00:00, 112.87it/s]\n",
      "100%|██████████| 3040/3040 [00:19<00:00, 154.20it/s]\n"
     ]
    }
   ],
   "source": [
    "### File paths \n",
    "fr_path = \"./txt files/french.txt\"\n",
    "en_path = \"./txt files/english.txt\"\n",
    "it_path = \"./txt files/italian.txt\"\n",
    "es_path = \"./txt files/spanish.txt\"\n",
    "\n",
    "fr_article = treat_article(fr_path,ENG_STOPWORDS,N_GRAM)\n",
    "en_article = treat_article(en_path,ENG_STOPWORDS,N_GRAM)\n",
    "it_article = treat_article(it_path,ENG_STOPWORDS,N_GRAM)\n",
    "es_article = treat_article(es_path,ENG_STOPWORDS,N_GRAM)\n",
    "\n",
    "france_lat_lon = (46.00,2.00)\n",
    "spain_lat_lon = (40.46,-3.75)\n",
    "italy_lat_lon = (42.23,13.57)\n",
    "england_lat_lon = (52.35,-1.17)\n",
    "\n",
    "languages = [\"french\",\"english\",\"italian\",\"spanish\"]\n",
    "articles = [fr_article,en_article,it_article,es_article]\n",
    "lat_lon_values = [france_lat_lon,england_lat_lon,italy_lat_lon,spain_lat_lon]"
   ]
  },
  {
   "cell_type": "code",
   "execution_count": 7,
   "metadata": {},
   "outputs": [
    {
     "name": "stdout",
     "output_type": "stream",
     "text": [
      "The two articles have a similarity score of 3.99, with 90 matching sequences. You can use the viewer to visualize the matching sequences\n",
      "\n",
      "--- --- ---\n",
      "\n",
      "The first article share 3.878636221457617% of its content with the second\n",
      "The second article share 4.092409240924092% of its content with the first\n",
      "\n",
      "\n",
      "--- Printing matching n°15 ---\n",
      "Carlovingians vigation letters and the arts which all perished the third of the Capériens The crown of France with him Henry \u001b[31mHenry the Great\u001b[0m Great the father the winner is hereditary the fires children male legitimate of his subjects was afflicted to environment of them\n",
      "time of Philip Augustus Francisco I gave rise to trade navigation letters and arts that all ended in his time Henry \u001b[31mHenry the Great\u001b[0m Great the father the conqueror of his vassals was assassinated among them at the same time that he was about to\n",
      "\n",
      "\n",
      "--- Printing matching n°16 ---\n",
      "of them when they do able to succeed to throne according to usage he was going to do their happiness Cardinal \u001b[31mCardinal de Richeausii\u001b[0m Richeausii older than the monarchy The King of France place took care of the care to lower the house dAu bears\n",
      "can easily be doubled in time of war if circumstances require it his navy which is not older than the Cardinal \u001b[31mCardinal de Richelieu\u001b[0m Richelieu has reached a formidable point in this kingdom It currently has about ninety warships in different parts of the worldOf\n",
      "\n",
      "\n",
      "--- Printing matching n°17 ---\n",
      "to succeed to throne according to usage he was going to do their happiness Cardinal de Richeausii older than the monarchy \u001b[31mmonarchy The King of\u001b[0m of France place took care of the care to lower the house dAu bears the titles Kings very Christian of eldest\n",
      "between FrancheComte and Switzerland and the not according to a custom as old as the Vosges in Alsace and Lorraine Monarchy \u001b[31mMonarchy The King of\u001b[0m of France has the titles ofThere are four great rivers that we will talk about Christianisimo eldest son of the Church\n",
      "\n",
      "\n",
      "--- Printing matching n°18 ---\n",
      "statesgeneral rancid thats it why they did not have part nor to all the provinces sent there their deputies y great \u001b[31mgreat discoveries nor to\u001b[0m to the beautiful inventions of one decided there the important affairs of the state other peoples Printing powder ice cream the\n",
      "French were without industry in economic disorder ignorance and go here because they have had no part neither in the great \u001b[31mgreat discoveries nor in\u001b[0m in the beautiful inventions of other peoples The printing press gunpowder crystals telescopes the compass of proportion the circulation of blood\n",
      "\n",
      "\n",
      "--- Printing matching n°19 ---\n",
      "important affairs of the state other peoples Printing powder ice cream the latest statesgeneral were held in Paris in the telescopes \u001b[31mtelescopes the compass\u001b[0m compass of proportion the circu 1614 under Louis XIII fang the pneumatic machine the real Les Gaulois its old inhabitants were\n",
      "no part neither in the great discoveries nor in the beautiful inventions of other peoples The printing press gunpowder crystals telescopes \u001b[31mtelescopes the compass\u001b[0m compass of proportion the circulation of blood the pneumatic machine the true system ma of the universe they are by no\n"
     ]
    }
   ],
   "source": [
    "import helpers\n",
    "viewer , score  = compute_plagiarism_from_articles(fr_article, es_article)\n",
    "viewer[15:20]"
   ]
  },
  {
   "cell_type": "code",
   "execution_count": 8,
   "metadata": {},
   "outputs": [
    {
     "name": "stdout",
     "output_type": "stream",
     "text": [
      "           french   english   italian spanish\n",
      "french        NaN       NaN       NaN     NaN\n",
      "english  0.051176       NaN       NaN     NaN\n",
      "italian  2.362592  0.029895       NaN     NaN\n",
      "spanish  3.985523  0.053762  3.002979     NaN\n"
     ]
    },
    {
     "data": {
      "application/vnd.plotly.v1+json": {
       "config": {
        "plotlyServerURL": "https://plot.ly"
       },
       "data": [
        {
         "lat": [
          46,
          52.35
         ],
         "line": {
          "color": "rgb(1.3719357048033218, 1.3719357048033218, 1.3719357048033218)"
         },
         "lon": [
          2,
          -1.17
         ],
         "mode": "markers+lines",
         "name": "french - english sim : 0.05",
         "type": "scattergeo"
        },
        {
         "lat": [
          46,
          42.23
         ],
         "line": {
          "color": "rgb(150.37758575450718, 150.37758575450718, 150.37758575450718)"
         },
         "lon": [
          2,
          13.57
         ],
         "mode": "markers+lines",
         "name": "french - italian sim : 2.36",
         "type": "scattergeo"
        },
        {
         "lat": [
          46,
          40.46
         ],
         "line": {
          "color": "rgb(255.0, 255.0, 255.0)"
         },
         "lon": [
          2,
          -3.75
         ],
         "mode": "markers+lines",
         "name": "french - spanish sim : 3.99",
         "type": "scattergeo"
        },
        {
         "lat": [
          52.35,
          42.23
         ],
         "line": {
          "color": "rgb(0.0, 0.0, 0.0)"
         },
         "lon": [
          -1.17,
          13.57
         ],
         "mode": "markers+lines",
         "name": "english - italian sim : 0.03",
         "type": "scattergeo"
        },
        {
         "lat": [
          52.35,
          40.46
         ],
         "line": {
          "color": "rgb(1.5386401501381373, 1.5386401501381373, 1.5386401501381373)"
         },
         "lon": [
          -1.17,
          -3.75
         ],
         "mode": "markers+lines",
         "name": "english - spanish sim : 0.05",
         "type": "scattergeo"
        },
        {
         "lat": [
          42.23,
          40.46
         ],
         "line": {
          "color": "rgb(191.6602037055904, 191.6602037055904, 191.6602037055904)"
         },
         "lon": [
          13.57,
          -3.75
         ],
         "mode": "markers+lines",
         "name": "italian - spanish sim : 3.00",
         "type": "scattergeo"
        }
       ],
       "layout": {
        "geo": {
         "landcolor": "rgb(204, 204, 204)",
         "lataxis": {
          "dtick": 10,
          "range": [
           35,
           58
          ]
         },
         "lonaxis": {
          "dtick": 20,
          "range": [
           -15,
           20
          ]
         },
         "projection": {
          "type": "equirectangular"
         },
         "resolution": 50,
         "showland": true
        },
        "height": 600,
        "legend": {
         "orientation": "h"
        },
        "showlegend": true,
        "template": {
         "data": {
          "scatter": [
           {
            "type": "scatter"
           }
          ]
         }
        },
        "title": {
         "text": "Similarity map between articles of encyclopedias"
        },
        "width": 800
       }
      }
     },
     "metadata": {},
     "output_type": "display_data"
    }
   ],
   "source": [
    "compute_many_to_many_sim(articles, languages, True, lat_lon_values)"
   ]
  },
  {
   "cell_type": "code",
   "execution_count": null,
   "metadata": {},
   "outputs": [],
   "source": []
  }
 ],
 "metadata": {
  "kernelspec": {
   "display_name": "Python 3.10.4 ('elena')",
   "language": "python",
   "name": "python3"
  },
  "language_info": {
   "codemirror_mode": {
    "name": "ipython",
    "version": 3
   },
   "file_extension": ".py",
   "mimetype": "text/x-python",
   "name": "python",
   "nbconvert_exporter": "python",
   "pygments_lexer": "ipython3",
   "version": "3.10.4"
  },
  "orig_nbformat": 4,
  "vscode": {
   "interpreter": {
    "hash": "8a6dfac6a863ce74490bf67068b844c1f481ab82347803ea647cf3fdeb1d638d"
   }
  }
 },
 "nbformat": 4,
 "nbformat_minor": 2
}
